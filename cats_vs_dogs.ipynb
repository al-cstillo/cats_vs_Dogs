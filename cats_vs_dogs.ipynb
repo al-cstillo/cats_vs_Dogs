{
 "cells": [
  {
   "cell_type": "code",
   "execution_count": 1,
   "id": "57bccafe",
   "metadata": {},
   "outputs": [],
   "source": [
    "import numpy as np\n",
    "\n",
    "import tensorflow as tf\n",
    "import tensorflow.keras as ks\n",
    "from tensorflow.keras.layers import Flatten,Activation,Dense,Dropout,Rescaling,Convolution2D, MaxPooling2D\n",
    "\n",
    "import seaborn as sb\n",
    "import matplotlib.pyplot as plt\n",
    "import PIL\n",
    "from PIL import Image,ImageOps # para hacer el resize de las imagenes.\n",
    "\n",
    "# paquetes de paths\n",
    "import glob\n",
    "import os\n",
    "from os import listdir, walk\n",
    "from os.path import isfile, join"
   ]
  },
  {
   "cell_type": "markdown",
   "id": "0832d172",
   "metadata": {},
   "source": [
    "En al compañia de seguros Aces Dominicana, se ha creado un nuevo producto de seguros de veterinario para perros y gatos. en el cual se ha calculado, que la prima del produto varía mas por el hecho de ser un perro o garo, que por la raza del animas.\n",
    "\n",
    "En ese sentido, se le solicitó al departamento de ciencia de datos de la compañía que creara un modelo quepudiera identificar entre una foto subida por el cliente, si era un perro o un gato para poder tarificar el seguro, puesto que junto con el producto, se comercializó una plataforma por whatsapp por la cual el asegurado puede eviar la foto de su mascota.\n",
    "\n",
    "Para esto usaremos una base de datos de imagenes que contiene 981 imagenes de perros y gatos para entrenamiento y 2001 imagenes de perros  y gatos para prueba."
   ]
  },
  {
   "cell_type": "code",
   "execution_count": 2,
   "id": "03ac9ccc",
   "metadata": {},
   "outputs": [],
   "source": [
    "data_path = 'C:/Users/Al_cstillo/Documents/nn_data/sample'"
   ]
  },
  {
   "cell_type": "markdown",
   "id": "a9b9b431",
   "metadata": {},
   "source": [
    "Esta ruta contiene 2 carpetas, trn y tst, que corresponden a los sets de entrenamiento y de validación respectivamente. cada cual contiene 2 carpetas cat, dog, las cuales contienen imagenes mixtas de gatos y perros."
   ]
  },
  {
   "cell_type": "code",
   "execution_count": 3,
   "id": "de4599a0",
   "metadata": {},
   "outputs": [
    {
     "name": "stdout",
     "output_type": "stream",
     "text": [
      "categorias:  ['cat', 'dog']\n",
      "Num classes:  2\n"
     ]
    }
   ],
   "source": [
    "# Data features\n",
    "categorias=[]\n",
    "labels={}\n",
    "for dirname, dirnames, filenames in walk(join(data_path,'trn')):\n",
    "    # Estudia todos los subdirectorios para ver las categorias.\n",
    "    for i,subdirname in enumerate(dirnames):\n",
    "        categorias += [subdirname]\n",
    "        labels[i] = subdirname\n",
    "print('categorias: ', categorias)\n",
    "\n",
    "n_classes = len(categorias)\n",
    "print('Num classes: ', n_classes)"
   ]
  },
  {
   "cell_type": "code",
   "execution_count": 4,
   "id": "508f8c69",
   "metadata": {
    "scrolled": true
   },
   "outputs": [
    {
     "name": "stdout",
     "output_type": "stream",
     "text": [
      "Found 1962 files belonging to 2 classes.\n",
      "Using 1570 files for training.\n"
     ]
    }
   ],
   "source": [
    "#Consiguiendo la data\n",
    "batch_size = 32\n",
    "img_height = 500\n",
    "img_width = 500\n",
    "\n",
    "train_ds = tf.keras.utils.image_dataset_from_directory(\n",
    "  os.path.join(data_path,'trn'),\n",
    "  validation_split=0.2,\n",
    "  subset=\"training\",\n",
    "  seed=123,\n",
    "  image_size=(img_height, img_width),\n",
    "  batch_size=batch_size)"
   ]
  },
  {
   "cell_type": "code",
   "execution_count": 5,
   "id": "f48bd08e",
   "metadata": {},
   "outputs": [
    {
     "name": "stdout",
     "output_type": "stream",
     "text": [
      "Found 4032 files belonging to 2 classes.\n",
      "Using 806 files for validation.\n"
     ]
    }
   ],
   "source": [
    "val_ds = tf.keras.utils.image_dataset_from_directory(\n",
    "  os.path.join(data_path,'tst'),\n",
    "  validation_split=0.2,\n",
    "  subset=\"validation\",\n",
    "  seed=123,\n",
    "  image_size=(img_height, img_width),\n",
    "  batch_size=batch_size)"
   ]
  },
  {
   "cell_type": "code",
   "execution_count": 9,
   "id": "81e4b502",
   "metadata": {},
   "outputs": [],
   "source": [
    "#ahora definimos el modelo\n",
    "kernel_size = 3 # Size of the kernel for the convolution layers\n",
    "pool_size = 2 # Size of the pooling region for the pooling layers\n",
    "\n",
    "red_neuronal=ks.models.Sequential()\n",
    "red_neuronal.add(Rescaling(1./255))\n",
    "red_neuronal.add(Convolution2D(8, kernel_size, activation='relu'))\n",
    "red_neuronal.add(MaxPooling2D(pool_size=(pool_size, pool_size)))\n",
    "red_neuronal.add(Convolution2D(16, kernel_size, activation='relu'))\n",
    "red_neuronal.add(MaxPooling2D(pool_size=(pool_size, pool_size)))\n",
    "red_neuronal.add(Convolution2D(32, kernel_size, activation='relu'))\n",
    "red_neuronal.add(MaxPooling2D(pool_size=(pool_size, pool_size)))\n",
    "red_neuronal.add(Convolution2D(64, kernel_size, activation='relu'))\n",
    "red_neuronal.add(MaxPooling2D(pool_size=(pool_size, pool_size)))\n",
    "red_neuronal.add(Dropout(0.1))\n",
    "#para que el output sea un vector de 2 valores. \n",
    "red_neuronal.add(Flatten())\n",
    "red_neuronal.add(Dense(2))\n",
    "red_neuronal.add(Activation('sigmoid'))"
   ]
  },
  {
   "cell_type": "code",
   "execution_count": 12,
   "id": "352b3644",
   "metadata": {},
   "outputs": [],
   "source": [
    "red_neuronal.compile(loss='sparse_categorical_crossentropy', optimizer='adam', metrics=['accuracy'])"
   ]
  },
  {
   "cell_type": "code",
   "execution_count": 13,
   "id": "1778d18b",
   "metadata": {},
   "outputs": [],
   "source": [
    "import datetime\n",
    "\n",
    "log_dir = \"logs/fit/\" + datetime.datetime.now().strftime(\"%Y%m%d-%H%M%S\")\n",
    "tensorboard_callback = tf.keras.callbacks.TensorBoard(log_dir=log_dir, histogram_freq=1)\n"
   ]
  },
  {
   "cell_type": "code",
   "execution_count": 14,
   "id": "f0ee174b",
   "metadata": {},
   "outputs": [
    {
     "name": "stdout",
     "output_type": "stream",
     "text": [
      "Epoch 1/25\n",
      "50/50 [==============================] - 204s 4s/step - loss: 0.6552 - accuracy: 0.5898 - val_loss: 0.6669 - val_accuracy: 0.6067\n",
      "Epoch 2/25\n",
      "50/50 [==============================] - 195s 4s/step - loss: 0.6205 - accuracy: 0.6459 - val_loss: 0.6605 - val_accuracy: 0.5980\n",
      "Epoch 3/25\n",
      "50/50 [==============================] - 179s 4s/step - loss: 0.6137 - accuracy: 0.6656 - val_loss: 0.6201 - val_accuracy: 0.6563\n",
      "Epoch 4/25\n",
      "50/50 [==============================] - 197s 4s/step - loss: 0.5262 - accuracy: 0.7280 - val_loss: 0.6407 - val_accuracy: 0.6663\n",
      "Epoch 5/25\n",
      "50/50 [==============================] - 182s 4s/step - loss: 0.4694 - accuracy: 0.7752 - val_loss: 0.6467 - val_accuracy: 0.6501\n",
      "Epoch 6/25\n",
      "50/50 [==============================] - 193s 4s/step - loss: 0.4194 - accuracy: 0.8025 - val_loss: 0.6560 - val_accuracy: 0.6799\n",
      "Epoch 7/25\n",
      "50/50 [==============================] - 189s 4s/step - loss: 0.3228 - accuracy: 0.8618 - val_loss: 0.9186 - val_accuracy: 0.6737\n",
      "Epoch 8/25\n",
      "50/50 [==============================] - 180s 4s/step - loss: 0.2670 - accuracy: 0.8924 - val_loss: 0.7762 - val_accuracy: 0.6923\n",
      "Epoch 9/25\n",
      "50/50 [==============================] - 182s 4s/step - loss: 0.1903 - accuracy: 0.9255 - val_loss: 0.9376 - val_accuracy: 0.6687\n",
      "Epoch 10/25\n",
      "50/50 [==============================] - 191s 4s/step - loss: 0.1894 - accuracy: 0.9217 - val_loss: 1.0001 - val_accuracy: 0.6923\n",
      "Epoch 11/25\n",
      "50/50 [==============================] - 183s 4s/step - loss: 0.1099 - accuracy: 0.9573 - val_loss: 1.2440 - val_accuracy: 0.6911\n",
      "Epoch 12/25\n",
      "50/50 [==============================] - 184s 4s/step - loss: 0.0734 - accuracy: 0.9803 - val_loss: 1.4952 - val_accuracy: 0.6725\n",
      "Epoch 13/25\n",
      "50/50 [==============================] - 182s 4s/step - loss: 0.0363 - accuracy: 0.9904 - val_loss: 1.5832 - val_accuracy: 0.6861\n",
      "Epoch 14/25\n",
      "50/50 [==============================] - 183s 4s/step - loss: 0.0472 - accuracy: 0.9822 - val_loss: 1.6797 - val_accuracy: 0.6811\n",
      "Epoch 15/25\n",
      "50/50 [==============================] - 182s 4s/step - loss: 0.0389 - accuracy: 0.9917 - val_loss: 1.6210 - val_accuracy: 0.6725\n",
      "Epoch 16/25\n",
      "50/50 [==============================] - 183s 4s/step - loss: 0.0264 - accuracy: 0.9930 - val_loss: 1.7701 - val_accuracy: 0.6811\n",
      "Epoch 17/25\n",
      "50/50 [==============================] - 189s 4s/step - loss: 0.0192 - accuracy: 0.9955 - val_loss: 1.8216 - val_accuracy: 0.6836\n",
      "Epoch 18/25\n",
      "50/50 [==============================] - 176s 3s/step - loss: 0.0391 - accuracy: 0.9898 - val_loss: 2.0596 - val_accuracy: 0.6266\n",
      "Epoch 19/25\n",
      "50/50 [==============================] - 173s 3s/step - loss: 0.0738 - accuracy: 0.9745 - val_loss: 1.7277 - val_accuracy: 0.6787\n",
      "Epoch 20/25\n",
      "50/50 [==============================] - 169s 3s/step - loss: 0.0356 - accuracy: 0.9911 - val_loss: 1.5731 - val_accuracy: 0.6973\n",
      "Epoch 21/25\n",
      "50/50 [==============================] - 170s 3s/step - loss: 0.0293 - accuracy: 0.9904 - val_loss: 1.8132 - val_accuracy: 0.6787\n",
      "Epoch 22/25\n",
      "50/50 [==============================] - 163s 3s/step - loss: 0.0078 - accuracy: 0.9994 - val_loss: 1.9196 - val_accuracy: 0.6886\n",
      "Epoch 23/25\n",
      "50/50 [==============================] - 173s 3s/step - loss: 0.0030 - accuracy: 1.0000 - val_loss: 1.9310 - val_accuracy: 0.6873\n",
      "Epoch 24/25\n",
      "50/50 [==============================] - 186s 4s/step - loss: 0.0082 - accuracy: 0.9975 - val_loss: 1.9605 - val_accuracy: 0.6849\n",
      "Epoch 25/25\n",
      "50/50 [==============================] - 166s 3s/step - loss: 0.0039 - accuracy: 0.9994 - val_loss: 2.1256 - val_accuracy: 0.6774\n"
     ]
    }
   ],
   "source": [
    "epochs = 25\n",
    "historial=red_neuronal.fit(\n",
    "    train_ds, # Data de entrenamiento\n",
    "    validation_data=val_ds, # tags de los animalitos\n",
    "    batch_size=128, # numero de batch\n",
    "    epochs=epochs, # epocas\n",
    "    callbacks=[tensorboard_callback]\n",
    ")"
   ]
  },
  {
   "cell_type": "code",
   "execution_count": 15,
   "id": "8a5bc45e",
   "metadata": {
    "scrolled": true
   },
   "outputs": [
    {
     "name": "stdout",
     "output_type": "stream",
     "text": [
      "Model: \"sequential_1\"\n",
      "_________________________________________________________________\n",
      " Layer (type)                Output Shape              Param #   \n",
      "=================================================================\n",
      " rescaling_1 (Rescaling)     (None, 500, 500, 3)       0         \n",
      "                                                                 \n",
      " conv2d_6 (Conv2D)           (None, 498, 498, 8)       224       \n",
      "                                                                 \n",
      " max_pooling2d_6 (MaxPooling  (None, 249, 249, 8)      0         \n",
      " 2D)                                                             \n",
      "                                                                 \n",
      " conv2d_7 (Conv2D)           (None, 247, 247, 16)      1168      \n",
      "                                                                 \n",
      " max_pooling2d_7 (MaxPooling  (None, 123, 123, 16)     0         \n",
      " 2D)                                                             \n",
      "                                                                 \n",
      " conv2d_8 (Conv2D)           (None, 121, 121, 32)      4640      \n",
      "                                                                 \n",
      " max_pooling2d_8 (MaxPooling  (None, 60, 60, 32)       0         \n",
      " 2D)                                                             \n",
      "                                                                 \n",
      " conv2d_9 (Conv2D)           (None, 58, 58, 64)        18496     \n",
      "                                                                 \n",
      " max_pooling2d_9 (MaxPooling  (None, 29, 29, 64)       0         \n",
      " 2D)                                                             \n",
      "                                                                 \n",
      " dropout_2 (Dropout)         (None, 29, 29, 64)        0         \n",
      "                                                                 \n",
      " flatten_1 (Flatten)         (None, 53824)             0         \n",
      "                                                                 \n",
      " dense_1 (Dense)             (None, 2)                 107650    \n",
      "                                                                 \n",
      " activation_1 (Activation)   (None, 2)                 0         \n",
      "                                                                 \n",
      "=================================================================\n",
      "Total params: 132,178\n",
      "Trainable params: 132,178\n",
      "Non-trainable params: 0\n",
      "_________________________________________________________________\n"
     ]
    }
   ],
   "source": [
    "red_neuronal.summary()"
   ]
  },
  {
   "cell_type": "code",
   "execution_count": 16,
   "id": "0b3613d2",
   "metadata": {
    "scrolled": true
   },
   "outputs": [
    {
     "data": {
      "image/png": "[encoded data removed]",
      "text/plain": [
       "<Figure size 576x576 with 2 Axes>"
      ]
     },
     "metadata": {
      "needs_background": "light"
     },
     "output_type": "display_data"
    }
   ],
   "source": [
    "# Para evaluar el desempe~no del modelo.\n",
    "\n",
    "acc = historial.history['accuracy']\n",
    "val_acc = historial.history['val_accuracy']\n",
    "\n",
    "loss = historial.history['loss']\n",
    "val_loss = historial.history['val_loss']\n",
    "\n",
    "epochs_range = range(epochs)\n",
    "\n",
    "plt.figure(figsize=(8, 8))\n",
    "plt.subplot(1, 2, 1)\n",
    "plt.plot(epochs_range, acc, label='Training Accuracy')\n",
    "plt.plot(epochs_range, val_acc, label='Validation Accuracy')\n",
    "plt.legend(loc='lower right')\n",
    "plt.title('Training and Validation Accuracy')\n",
    "\n",
    "plt.subplot(1, 2, 2)\n",
    "plt.plot(epochs_range, loss, label='Training Loss')\n",
    "plt.plot(epochs_range, val_loss, label='Validation Loss')\n",
    "plt.legend(loc='upper right')\n",
    "plt.title('Training and Validation Loss')\n",
    "plt.show()"
   ]
  },
  {
   "cell_type": "code",
   "execution_count": 17,
   "id": "deb54f71",
   "metadata": {},
   "outputs": [],
   "source": [
    "#ahora Predeciremos una imagen de un SHIBA para tener buena suerte en el mercadod e crypto\n",
    "Shiba_image_path='C:\\\\Users\\\\Al_cstillo\\\\Desktop\\\\zou\\\\Intec\\\\mma\\\\TR5\\\\Optimizacion_1\\\\shib.jpg'\n",
    "Shiba_image=Image.open('C:\\\\Users\\\\Al_cstillo\\\\Desktop\\\\zou\\\\Intec\\\\mma\\\\TR5\\\\Optimizacion_1\\\\shib.jpg')"
   ]
  },
  {
   "cell_type": "code",
   "execution_count": 18,
   "id": "0b48dee8",
   "metadata": {},
   "outputs": [],
   "source": [
    "image = tf.keras.preprocessing.image.load_img(Shiba_image_path)\n",
    "image = image.resize((500,500))\n",
    "input_arr = tf.keras.preprocessing.image.img_to_array(image)\n",
    "input_arr = np.array([input_arr])  # Convert single image to a batch.\n",
    "predictions = red_neuronal.predict(input_arr)"
   ]
  },
  {
   "cell_type": "code",
   "execution_count": 19,
   "id": "14afd289",
   "metadata": {},
   "outputs": [
    {
     "data": {
      "text/plain": [
       "['dog']"
      ]
     },
     "execution_count": 19,
     "metadata": {},
     "output_type": "execute_result"
    }
   ],
   "source": [
    "classes_num =np.argmax(predictions, axis = 1)\n",
    "classes =[categorias[x] for x in classes_num]\n",
    "classes"
   ]
  },
  {
   "cell_type": "code",
   "execution_count": null,
   "id": "47cbcb86",
   "metadata": {},
   "outputs": [],
   "source": []
  }
 ],
 "metadata": {
  "kernelspec": {
   "display_name": "Python 3 (ipykernel)",
   "language": "python",
   "name": "python3"
  },
  "language_info": {
   "codemirror_mode": {
    "name": "ipython",
    "version": 3
   },
   "file_extension": ".py",
   "mimetype": "text/x-python",
   "name": "python",
   "nbconvert_exporter": "python",
   "pygments_lexer": "ipython3",
   "version": "3.9.7"
  }
 },
 "nbformat": 4,
 "nbformat_minor": 5
}
